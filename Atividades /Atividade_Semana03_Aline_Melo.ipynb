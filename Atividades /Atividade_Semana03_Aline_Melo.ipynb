{
  "nbformat": 4,
  "nbformat_minor": 0,
  "metadata": {
    "colab": {
      "provenance": []
    },
    "kernelspec": {
      "name": "python3",
      "display_name": "Python 3"
    },
    "language_info": {
      "name": "python"
    }
  },
  "cells": [
    {
      "cell_type": "markdown",
      "source": [
        "# Atividade - Semana 03 - Python (Parte 1)\n",
        "\n",
        "Esta é atividade semanal sugerida. Você deverá preenchê-la e enviá-la dentro do prazo (até o fechamento da semana corrente)."
      ],
      "metadata": {
        "id": "bPISwE0Is_Pu"
      }
    },
    {
      "cell_type": "markdown",
      "source": [
        "###Questão 1\n",
        "\n",
        "Crie um objeto chamado `nome` e atribua seu nome à ele. Imprima na tela o resultado."
      ],
      "metadata": {
        "id": "RAg7REeatl9X"
      }
    },
    {
      "cell_type": "code",
      "execution_count": 1,
      "metadata": {
        "id": "izFFVN2Nst-F",
        "colab": {
          "base_uri": "https://localhost:8080/"
        },
        "outputId": "2311061f-4e7e-4623-c1dc-83f27bed2797"
      },
      "outputs": [
        {
          "output_type": "stream",
          "name": "stdout",
          "text": [
            "Aline Melo\n"
          ]
        }
      ],
      "source": [
        "# Questao 1\n",
        "\n",
        "nome = \"Aline Melo\"\n",
        "print(nome)"
      ]
    },
    {
      "cell_type": "markdown",
      "source": [
        "###Questão 2\n",
        "\n",
        "Imprima na tela qual o tipo (ou classe) do objeto criado no exercício anterior."
      ],
      "metadata": {
        "id": "3xNawcemugMY"
      }
    },
    {
      "cell_type": "code",
      "source": [
        "# Questao 2\n",
        "\n",
        "print(type(nome))"
      ],
      "metadata": {
        "id": "yVxFX6kPuu6Z",
        "colab": {
          "base_uri": "https://localhost:8080/"
        },
        "outputId": "9a492ec4-ba3e-4412-8cf7-995f6ec0d67b"
      },
      "execution_count": 2,
      "outputs": [
        {
          "output_type": "stream",
          "name": "stdout",
          "text": [
            "<class 'str'>\n"
          ]
        }
      ]
    },
    {
      "cell_type": "markdown",
      "source": [
        "###Questão 3\n",
        "\n",
        "Abaixo você encontra uma funcao que calcula o triplo de um valor. Embora, completamente sem documentação. Complete a documentação utilizando comentário iniciados com $\\#$."
      ],
      "metadata": {
        "id": "sbXN8AoMuxvx"
      }
    },
    {
      "cell_type": "code",
      "source": [
        "# Questao 3\n",
        "\n",
        "#############################\n",
        "# Documente a funcao abaixo:\n",
        "#############################\n",
        "\n",
        "# Esta função recebe um número como parâmetro.\n",
        "# Ela calcula o triplo desse número multiplicando-o por 3.\n",
        "# Retorna o resultado do cálculo.\n",
        "\n",
        "def triplo(numero):\n",
        "    resultado = 3 * numero\n",
        "    return resultado\n",
        "\n",
        "triplo_do_numero = triplo(5)\n",
        "\n",
        "print('Triplo:', triplo_do_numero)"
      ],
      "metadata": {
        "id": "YxUJOpR2uyFh",
        "colab": {
          "base_uri": "https://localhost:8080/"
        },
        "outputId": "5000c01f-eedd-413d-8fd3-8efd5cea7e8c"
      },
      "execution_count": 3,
      "outputs": [
        {
          "output_type": "stream",
          "name": "stdout",
          "text": [
            "Triplo: 15\n"
          ]
        }
      ]
    },
    {
      "cell_type": "markdown",
      "source": [
        "###Questão 4\n",
        "\n",
        "Crie uma função que calcula o quadrado de um número.\n",
        "\n",
        "> Ex.: O quadrado de 3 é 3 * 3 = 9 (basta multiplicar o número por ele mesmo)"
      ],
      "metadata": {
        "id": "8LNVxN-DvqpU"
      }
    },
    {
      "cell_type": "code",
      "source": [
        "# Questao 4\n",
        "\n",
        "def quadrado(numero):\n",
        "\n",
        "  return numero * numero\n",
        "\n",
        "resultado = quadrado = quadrado(3)\n",
        "print(f\"O quadrado de 3 é {resultado}.\")\n",
        "\n",
        "\n",
        "# Esta função recebe um número como parâmetro.\n",
        "# Ela calcula o quadrado desse número multiplicando-o por ele mesmo.\n",
        "# Retorna o resultado do cálculo."
      ],
      "metadata": {
        "id": "lXTKOd3pvrmT",
        "colab": {
          "base_uri": "https://localhost:8080/"
        },
        "outputId": "c7f2aa81-e25d-4ab7-985b-c53bd0f1f809"
      },
      "execution_count": 7,
      "outputs": [
        {
          "output_type": "stream",
          "name": "stdout",
          "text": [
            "O quadrado de 3 é 9.\n"
          ]
        }
      ]
    }
  ]
}