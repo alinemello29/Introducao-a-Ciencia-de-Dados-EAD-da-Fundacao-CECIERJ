{
  "nbformat": 4,
  "nbformat_minor": 0,
  "metadata": {
    "colab": {
      "provenance": []
    },
    "kernelspec": {
      "name": "python3",
      "display_name": "Python 3"
    },
    "language_info": {
      "name": "python"
    }
  },
  "cells": [
    {
      "cell_type": "markdown",
      "source": [
        "# Atividade - Semana 04 - Python (Parte 2)\n",
        "\n",
        "Esta é atividade semanal sugerida. Você deverá preenchê-la e enviá-la dentro do prazo (até o fechamento da semana corrente)."
      ],
      "metadata": {
        "id": "bPISwE0Is_Pu"
      }
    },
    {
      "cell_type": "markdown",
      "source": [
        "###Questão 1\n",
        "\n",
        "Crie uma função que contenha uma estrutura condicional que imprima na tela se um número é positivo ou negativo. Além disso, imprima um aviso de que não é possível testar o valor `0`."
      ],
      "metadata": {
        "id": "RAg7REeatl9X"
      }
    },
    {
      "cell_type": "code",
      "execution_count": 1,
      "metadata": {
        "id": "izFFVN2Nst-F",
        "colab": {
          "base_uri": "https://localhost:8080/"
        },
        "outputId": "5d099103-8e9c-417c-e7f4-12a18ee95915"
      },
      "outputs": [
        {
          "output_type": "stream",
          "name": "stdout",
          "text": [
            "5 é positivo.\n",
            "-3 é negativo.\n",
            "Não é possível testar o valor 0.\n"
          ]
        }
      ],
      "source": [
        "# Questao 1\n",
        "\n",
        "def verificar_numero(num):\n",
        "    if num > 0:\n",
        "        print(f\"{num} é positivo.\")\n",
        "    elif num < 0:\n",
        "        print(f\"{num} é negativo.\")\n",
        "    else:\n",
        "        print(\"Não é possível testar o valor 0.\")\n",
        "\n",
        "# Testando a função\n",
        "verificar_numero(5)\n",
        "verificar_numero(-3)\n",
        "verificar_numero(0)"
      ]
    },
    {
      "cell_type": "markdown",
      "source": [
        "###Questão 2\n",
        "\n",
        "Crie uma lista `pessoas` com o nome dos seus familiares preferidos. Imprima o resultado na tela."
      ],
      "metadata": {
        "id": "3xNawcemugMY"
      }
    },
    {
      "cell_type": "code",
      "source": [
        "# Questao 2\n",
        "\n",
        "# Lista de familiares preferidos\n",
        "pessoas = [\"Mãe\", \"Pai\", \"Irmã\", \"Avó\"]\n",
        "\n",
        "# Imprimindo a lista\n",
        "print(pessoas)"
      ],
      "metadata": {
        "id": "yVxFX6kPuu6Z",
        "colab": {
          "base_uri": "https://localhost:8080/"
        },
        "outputId": "260eddd9-5d11-4ebf-838e-72a00baa23f2"
      },
      "execution_count": 2,
      "outputs": [
        {
          "output_type": "stream",
          "name": "stdout",
          "text": [
            "['Mãe', 'Pai', 'Irmã', 'Avó']\n"
          ]
        }
      ]
    },
    {
      "cell_type": "markdown",
      "source": [
        "###Questão 3\n",
        "\n",
        "Utilizando o método adequado, adicione à lista `pessoas` o nome dos seus amigos preferidos. Além disso, coloque todos os caracteres dessa lista com letra maiúscula. Imprima o resultado na tela."
      ],
      "metadata": {
        "id": "sbXN8AoMuxvx"
      }
    },
    {
      "cell_type": "code",
      "source": [
        "# Questao 3\n",
        "\n",
        "# Adicionando amigos à lista\n",
        "pessoas.extend([\"Amigo1\", \"Amigo2\", \"Amigo3\"])\n",
        "\n",
        "# Convertendo para maiúsculas\n",
        "pessoas = [nome.upper() for nome in pessoas]\n",
        "\n",
        "# Imprimindo a lista atualizada\n",
        "print(pessoas)"
      ],
      "metadata": {
        "id": "YxUJOpR2uyFh",
        "colab": {
          "base_uri": "https://localhost:8080/"
        },
        "outputId": "91ea34ea-be5f-453f-e96f-7446b5287c5f"
      },
      "execution_count": 3,
      "outputs": [
        {
          "output_type": "stream",
          "name": "stdout",
          "text": [
            "['MÃE', 'PAI', 'IRMÃ', 'AVÓ', 'AMIGO1', 'AMIGO2', 'AMIGO3']\n"
          ]
        }
      ]
    },
    {
      "cell_type": "markdown",
      "source": [
        "###Questão 4\n",
        "\n",
        "Crie uma função que recebe uma frase e retorna uma lista com cada palavra sendo um elemento dessa lista. Utilize o método adequado. Crie um teste e imprima o resultado na tela."
      ],
      "metadata": {
        "id": "8LNVxN-DvqpU"
      }
    },
    {
      "cell_type": "code",
      "source": [
        "# Questao 4\n",
        "\n",
        "def frase_para_lista(frase):\n",
        "    return frase.split()\n",
        "\n",
        "# Testando a função\n",
        "resultado = frase_para_lista(\"Olá, como você está?\")\n",
        "print(resultado)"
      ],
      "metadata": {
        "id": "lXTKOd3pvrmT",
        "colab": {
          "base_uri": "https://localhost:8080/"
        },
        "outputId": "7a06a23f-8bfa-4514-f849-8d738de2e3dd"
      },
      "execution_count": 4,
      "outputs": [
        {
          "output_type": "stream",
          "name": "stdout",
          "text": [
            "['Olá,', 'como', 'você', 'está?']\n"
          ]
        }
      ]
    }
  ]
}